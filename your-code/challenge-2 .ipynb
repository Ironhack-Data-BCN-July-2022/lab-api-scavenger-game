{
 "cells": [
  {
   "cell_type": "markdown",
   "id": "threaded-asbestos",
   "metadata": {},
   "source": [
    "# Challenge 2: Count Commits\n",
    "\n",
    "Count how many commits were made in the past week.\n",
    "\n",
    "Obtain all the commits made in the past week via API, which is a JSON array that contains multiple commit objects.\n",
    "\n",
    "Count how many commit objects are contained in the array."
   ]
  },
  {
   "cell_type": "markdown",
   "id": "norwegian-praise",
   "metadata": {},
   "source": [
    "⚠️ **Remember to limit your output before submission**."
   ]
  },
  {
   "cell_type": "code",
   "execution_count": 2,
   "id": "creative-stable",
   "metadata": {},
   "outputs": [],
   "source": [
    "# Example: print(variable[:10]) "
   ]
  },
  {
   "cell_type": "code",
   "execution_count": 7,
   "id": "developing-printing",
   "metadata": {},
   "outputs": [
    {
     "data": {
      "text/plain": [
       "True"
      ]
     },
     "execution_count": 7,
     "metadata": {},
     "output_type": "execute_result"
    }
   ],
   "source": [
    "import json\n",
    "import requests\n",
    "import pandas as pd\n",
    "import os\n",
    "from dotenv import load_dotenv\n",
    "load_dotenv()"
   ]
  },
  {
   "cell_type": "code",
   "execution_count": 3,
   "id": "ongoing-taylor",
   "metadata": {},
   "outputs": [
    {
     "data": {
      "text/plain": [
       "<Response [200]>"
      ]
     },
     "execution_count": 3,
     "metadata": {},
     "output_type": "execute_result"
    }
   ],
   "source": [
    "token = os.getenv(\"token\")\n",
    "repo = \"ironhack-datalabs/datamad1020-rev\"\n",
    "url = f\"https://api.github.com/repos/{repo}/commits\"\n",
    "parameters = {\"Authorization\":f\"token {token}\"}\n",
    "res = requests.get(url, params = parameters)\n",
    "res"
   ]
  },
  {
   "cell_type": "code",
   "execution_count": 4,
   "id": "1a0ea745",
   "metadata": {},
   "outputs": [
    {
     "data": {
      "text/plain": [
       "dict_keys(['sha', 'node_id', 'commit', 'url', 'html_url', 'comments_url', 'author', 'committer', 'parents'])"
      ]
     },
     "execution_count": 4,
     "metadata": {},
     "output_type": "execute_result"
    }
   ],
   "source": [
    "res.json()[0].keys()"
   ]
  },
  {
   "cell_type": "code",
   "execution_count": 5,
   "id": "519c5cd0",
   "metadata": {},
   "outputs": [
    {
     "data": {
      "text/plain": [
       "['2022-07-21T16:02:45Z',\n",
       " '2021-08-26T14:17:20Z',\n",
       " '2021-06-17T14:03:57Z',\n",
       " '2021-03-24T18:55:39Z',\n",
       " '2021-01-26T13:00:09Z',\n",
       " '2020-12-07T14:44:17Z',\n",
       " '2020-11-27T15:11:12Z',\n",
       " '2020-11-27T14:53:46Z',\n",
       " '2020-11-27T09:47:17Z',\n",
       " '2020-11-27T09:41:29Z',\n",
       " '2020-11-12T23:27:48Z',\n",
       " '2020-11-12T23:22:51Z',\n",
       " '2020-11-12T18:26:54Z',\n",
       " '2020-11-10T19:19:52Z',\n",
       " '2020-11-10T19:19:49Z',\n",
       " '2020-11-10T08:28:18Z',\n",
       " '2020-11-06T10:03:48Z',\n",
       " '2020-11-06T10:02:37Z',\n",
       " '2020-11-05T23:04:53Z',\n",
       " '2020-11-05T23:02:33Z',\n",
       " '2020-11-04T19:04:32Z',\n",
       " '2020-11-02T16:47:51Z',\n",
       " '2020-10-30T09:29:13Z',\n",
       " '2020-10-30T09:23:03Z',\n",
       " '2020-10-30T09:22:04Z',\n",
       " '2020-10-29T15:59:33Z',\n",
       " '2020-10-29T15:59:17Z',\n",
       " '2020-10-29T14:57:00Z',\n",
       " '2020-10-29T14:56:29Z',\n",
       " '2020-10-29T14:54:12Z']"
      ]
     },
     "execution_count": 5,
     "metadata": {},
     "output_type": "execute_result"
    }
   ],
   "source": [
    "dates = ['2021-08-26', '2021-08-25', '2021-08-24', '2021-08-23', '2021-08-22', '2021-08-21', '2021-08-20']\n",
    "commits = []\n",
    "for i in range(len(res.json())):\n",
    "    commits.append(res.json()[i]['commit']['author']['date'])\n",
    "commits\n",
    "\n",
    "#for i in range(len(commits)):\n",
    "#    if commits[i].substr(0,9) in dates:\n",
    "#        print(i)"
   ]
  },
  {
   "cell_type": "code",
   "execution_count": 8,
   "id": "2e3613af",
   "metadata": {
    "scrolled": true
   },
   "outputs": [
    {
     "data": {
      "text/plain": [
       "['2021-08-26T14:17:20Z']"
      ]
     },
     "execution_count": 8,
     "metadata": {},
     "output_type": "execute_result"
    }
   ],
   "source": [
    "solu = []\n",
    "for i in range(len(res.json())):\n",
    "    if commits[i][0:10] in dates:\n",
    "        solu.append(res.json()[i]['commit']['author']['date'])\n",
    "solu"
   ]
  }
 ],
 "metadata": {
  "kernelspec": {
   "display_name": "Python 3 (ipykernel)",
   "language": "python",
   "name": "python3"
  },
  "language_info": {
   "codemirror_mode": {
    "name": "ipython",
    "version": 3
   },
   "file_extension": ".py",
   "mimetype": "text/x-python",
   "name": "python",
   "nbconvert_exporter": "python",
   "pygments_lexer": "ipython3",
   "version": "3.8.13"
  },
  "toc": {
   "base_numbering": 1,
   "nav_menu": {},
   "number_sections": true,
   "sideBar": true,
   "skip_h1_title": true,
   "title_cell": "Table of Contents",
   "title_sidebar": "Contents",
   "toc_cell": false,
   "toc_position": {
    "height": "calc(100% - 180px)",
    "left": "10px",
    "top": "150px",
    "width": "288px"
   },
   "toc_section_display": true,
   "toc_window_display": true
  }
 },
 "nbformat": 4,
 "nbformat_minor": 5
}
