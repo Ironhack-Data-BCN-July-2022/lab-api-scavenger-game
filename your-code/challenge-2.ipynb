{
 "cells": [
  {
   "cell_type": "markdown",
   "id": "threaded-asbestos",
   "metadata": {},
   "source": [
    "# Challenge 2: Count Commits\n",
    "\n",
    "Count how many commits were made in the past week.\n",
    "\n",
    "Obtain all the commits made in the past week via API, which is a JSON array that contains multiple commit objects.\n",
    "\n",
    "Count how many commit objects are contained in the array."
   ]
  },
  {
   "cell_type": "markdown",
   "id": "norwegian-praise",
   "metadata": {},
   "source": [
    "⚠️ **Remember to limit your output before submission**."
   ]
  },
  {
   "cell_type": "code",
   "execution_count": 1,
   "id": "developing-printing",
   "metadata": {},
   "outputs": [],
   "source": [
    "import json\n",
    "import requests\n",
    "import os\n",
    "import pandas as pd\n",
    "from pandas import json_normalize"
   ]
  },
  {
   "cell_type": "code",
   "execution_count": 2,
   "id": "96f073b5",
   "metadata": {},
   "outputs": [],
   "source": [
    "import os\n",
    "from dotenv import load_dotenv"
   ]
  },
  {
   "cell_type": "code",
   "execution_count": 3,
   "id": "08fc4997",
   "metadata": {},
   "outputs": [
    {
     "data": {
      "text/plain": [
       "True"
      ]
     },
     "execution_count": 3,
     "metadata": {},
     "output_type": "execute_result"
    }
   ],
   "source": [
    "load_dotenv()"
   ]
  },
  {
   "cell_type": "code",
   "execution_count": 7,
   "id": "cfcac957",
   "metadata": {},
   "outputs": [],
   "source": [
    "github = os.getenv(\"token\")"
   ]
  },
  {
   "cell_type": "code",
   "execution_count": 9,
   "id": "creative-stable",
   "metadata": {},
   "outputs": [
    {
     "data": {
      "text/plain": [
       "[]"
      ]
     },
     "execution_count": 9,
     "metadata": {},
     "output_type": "execute_result"
    }
   ],
   "source": [
    "url = f\"https://api.github.com/repos/ironhack-datalabs/datamad1020-rev/commits?since=2022-07-11\"\n",
    "parameters = {\"Authorization\": f\"token {github}\"}\n",
    "res = requests.get(url, parameters)\n",
    "ripeo = res.json()\n",
    "ripeo"
   ]
  },
  {
   "cell_type": "markdown",
   "id": "16810876",
   "metadata": {},
   "source": [
    "No commit in the past two weeks"
   ]
  },
  {
   "cell_type": "code",
   "execution_count": 10,
   "id": "ongoing-taylor",
   "metadata": {},
   "outputs": [
    {
     "data": {
      "text/plain": [
       "[{'sha': 'f61a35d1016bfc11bb53e8d844db395fc6c4933d',\n",
       "  'node_id': 'MDY6Q29tbWl0MzA0MjQ4NTM5OmY2MWEzNWQxMDE2YmZjMTFiYjUzZThkODQ0ZGIzOTVmYzZjNDkzM2Q=',\n",
       "  'commit': {'author': {'name': 'ras',\n",
       "    'email': 'agalvezcorell@gmail.com',\n",
       "    'date': '2021-08-26T14:17:20Z'},\n",
       "   'committer': {'name': 'ras',\n",
       "    'email': 'agalvezcorell@gmail.com',\n",
       "    'date': '2021-08-26T14:17:20Z'},\n",
       "   'message': 'Hola polluelos de DataMad FT Agosto 2021 ♥️',\n",
       "   'tree': {'sha': '3f29ee656cb674a9e5d77748490d23bdff86aa18',\n",
       "    'url': 'https://api.github.com/repos/ironhack-datalabs/datamad1020-rev/git/trees/3f29ee656cb674a9e5d77748490d23bdff86aa18'},\n",
       "   'url': 'https://api.github.com/repos/ironhack-datalabs/datamad1020-rev/git/commits/f61a35d1016bfc11bb53e8d844db395fc6c4933d',\n",
       "   'comment_count': 0,\n",
       "   'verification': {'verified': False,\n",
       "    'reason': 'unsigned',\n",
       "    'signature': None,\n",
       "    'payload': None}},\n",
       "  'url': 'https://api.github.com/repos/ironhack-datalabs/datamad1020-rev/commits/f61a35d1016bfc11bb53e8d844db395fc6c4933d',\n",
       "  'html_url': 'https://github.com/ironhack-datalabs/datamad1020-rev/commit/f61a35d1016bfc11bb53e8d844db395fc6c4933d',\n",
       "  'comments_url': 'https://api.github.com/repos/ironhack-datalabs/datamad1020-rev/commits/f61a35d1016bfc11bb53e8d844db395fc6c4933d/comments',\n",
       "  'author': {'login': 'olmocorell',\n",
       "   'id': 57899051,\n",
       "   'node_id': 'MDQ6VXNlcjU3ODk5MDUx',\n",
       "   'avatar_url': 'https://avatars.githubusercontent.com/u/57899051?v=4',\n",
       "   'gravatar_id': '',\n",
       "   'url': 'https://api.github.com/users/olmocorell',\n",
       "   'html_url': 'https://github.com/olmocorell',\n",
       "   'followers_url': 'https://api.github.com/users/olmocorell/followers',\n",
       "   'following_url': 'https://api.github.com/users/olmocorell/following{/other_user}',\n",
       "   'gists_url': 'https://api.github.com/users/olmocorell/gists{/gist_id}',\n",
       "   'starred_url': 'https://api.github.com/users/olmocorell/starred{/owner}{/repo}',\n",
       "   'subscriptions_url': 'https://api.github.com/users/olmocorell/subscriptions',\n",
       "   'organizations_url': 'https://api.github.com/users/olmocorell/orgs',\n",
       "   'repos_url': 'https://api.github.com/users/olmocorell/repos',\n",
       "   'events_url': 'https://api.github.com/users/olmocorell/events{/privacy}',\n",
       "   'received_events_url': 'https://api.github.com/users/olmocorell/received_events',\n",
       "   'type': 'User',\n",
       "   'site_admin': False},\n",
       "  'committer': {'login': 'olmocorell',\n",
       "   'id': 57899051,\n",
       "   'node_id': 'MDQ6VXNlcjU3ODk5MDUx',\n",
       "   'avatar_url': 'https://avatars.githubusercontent.com/u/57899051?v=4',\n",
       "   'gravatar_id': '',\n",
       "   'url': 'https://api.github.com/users/olmocorell',\n",
       "   'html_url': 'https://github.com/olmocorell',\n",
       "   'followers_url': 'https://api.github.com/users/olmocorell/followers',\n",
       "   'following_url': 'https://api.github.com/users/olmocorell/following{/other_user}',\n",
       "   'gists_url': 'https://api.github.com/users/olmocorell/gists{/gist_id}',\n",
       "   'starred_url': 'https://api.github.com/users/olmocorell/starred{/owner}{/repo}',\n",
       "   'subscriptions_url': 'https://api.github.com/users/olmocorell/subscriptions',\n",
       "   'organizations_url': 'https://api.github.com/users/olmocorell/orgs',\n",
       "   'repos_url': 'https://api.github.com/users/olmocorell/repos',\n",
       "   'events_url': 'https://api.github.com/users/olmocorell/events{/privacy}',\n",
       "   'received_events_url': 'https://api.github.com/users/olmocorell/received_events',\n",
       "   'type': 'User',\n",
       "   'site_admin': False},\n",
       "  'parents': [{'sha': '79efcf150e34bc5eb982fde74dc5446bafc39bad',\n",
       "    'url': 'https://api.github.com/repos/ironhack-datalabs/datamad1020-rev/commits/79efcf150e34bc5eb982fde74dc5446bafc39bad',\n",
       "    'html_url': 'https://github.com/ironhack-datalabs/datamad1020-rev/commit/79efcf150e34bc5eb982fde74dc5446bafc39bad'}]}]"
      ]
     },
     "execution_count": 10,
     "metadata": {},
     "output_type": "execute_result"
    }
   ],
   "source": [
    "# to check if the code works\n",
    "url = f\"https://api.github.com/repos/ironhack-datalabs/datamad1020-rev/commits?since=2021-07-11\"\n",
    "parameters = {\"Authorization\": f\"token {github}\"}\n",
    "res = requests.get(url, parameters)\n",
    "ripeo = res.json()\n",
    "ripeo"
   ]
  },
  {
   "cell_type": "code",
   "execution_count": null,
   "id": "342ff6d5",
   "metadata": {},
   "outputs": [],
   "source": []
  }
 ],
 "metadata": {
  "kernelspec": {
   "display_name": "Python 3 (ipykernel)",
   "language": "python",
   "name": "python3"
  },
  "language_info": {
   "codemirror_mode": {
    "name": "ipython",
    "version": 3
   },
   "file_extension": ".py",
   "mimetype": "text/x-python",
   "name": "python",
   "nbconvert_exporter": "python",
   "pygments_lexer": "ipython3",
   "version": "3.8.13"
  },
  "toc": {
   "base_numbering": 1,
   "nav_menu": {},
   "number_sections": true,
   "sideBar": true,
   "skip_h1_title": true,
   "title_cell": "Table of Contents",
   "title_sidebar": "Contents",
   "toc_cell": false,
   "toc_position": {
    "height": "calc(100% - 180px)",
    "left": "10px",
    "top": "150px",
    "width": "288px"
   },
   "toc_section_display": true,
   "toc_window_display": true
  }
 },
 "nbformat": 4,
 "nbformat_minor": 5
}
