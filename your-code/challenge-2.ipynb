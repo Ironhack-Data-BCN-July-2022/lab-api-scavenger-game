{
 "cells": [
  {
   "cell_type": "markdown",
   "id": "threaded-asbestos",
   "metadata": {},
   "source": [
    "# Challenge 2: Count Commits\n",
    "\n",
    "Count how many commits were made in the past week.\n",
    "\n",
    "Obtain all the commits made in the past week via API, which is a JSON array that contains multiple commit objects.\n",
    "\n",
    "Count how many commit objects are contained in the array."
   ]
  },
  {
   "cell_type": "markdown",
   "id": "norwegian-praise",
   "metadata": {},
   "source": [
    "⚠️ **Remember to limit your output before submission**."
   ]
  },
  {
   "cell_type": "code",
   "execution_count": 14,
   "id": "12350313",
   "metadata": {},
   "outputs": [],
   "source": [
    "import json\n",
    "import requests\n",
    "import pandas as pd\n",
    "import os\n",
    "from dotenv import load_dotenv"
   ]
  },
  {
   "cell_type": "code",
   "execution_count": 15,
   "id": "40197013",
   "metadata": {},
   "outputs": [
    {
     "data": {
      "text/plain": [
       "True"
      ]
     },
     "execution_count": 15,
     "metadata": {},
     "output_type": "execute_result"
    }
   ],
   "source": [
    "load_dotenv()"
   ]
  },
  {
   "cell_type": "code",
   "execution_count": 16,
   "id": "7276a780",
   "metadata": {},
   "outputs": [],
   "source": [
    "token = os.getenv(\"token\")"
   ]
  },
  {
   "cell_type": "code",
   "execution_count": 17,
   "id": "developing-printing",
   "metadata": {},
   "outputs": [],
   "source": [
    "#Your code"
   ]
  },
  {
   "cell_type": "code",
   "execution_count": 23,
   "id": "creative-stable",
   "metadata": {},
   "outputs": [],
   "source": [
    "url = f\"https://api.github.com/repos/ironhack-datalabs/datamad1020-rev/commits?since=2022-07-11\"\n",
    "parameters = {\"Authorization\": f\"token {token}\"}\n",
    "res = requests.get(url, parameters)\n",
    "dict_count = res.json()\n"
   ]
  },
  {
   "cell_type": "code",
   "execution_count": 29,
   "id": "4dec3a69",
   "metadata": {},
   "outputs": [
    {
     "data": {
      "text/plain": [
       "{'author': {'name': 'Fernando Costa',\n",
       "  'email': '54676992+breogann@users.noreply.github.com',\n",
       "  'date': '2022-07-21T16:02:45Z'},\n",
       " 'committer': {'name': 'GitHub',\n",
       "  'email': 'noreply@github.com',\n",
       "  'date': '2022-07-21T16:02:45Z'},\n",
       " 'message': 'ola',\n",
       " 'tree': {'sha': '20b07f12dcd6b74d8fcd3dc2647cf93cbb5544aa',\n",
       "  'url': 'https://api.github.com/repos/ironhack-datalabs/datamad1020-rev/git/trees/20b07f12dcd6b74d8fcd3dc2647cf93cbb5544aa'},\n",
       " 'url': 'https://api.github.com/repos/ironhack-datalabs/datamad1020-rev/git/commits/50581734c624a4d60851f59ed028d32b43f09997',\n",
       " 'comment_count': 0,\n",
       " 'verification': {'verified': True,\n",
       "  'reason': 'valid',\n",
       "  'signature': '-----BEGIN PGP SIGNATURE-----\\n\\nwsBcBAABCAAQBQJi2XilCRBK7hj4Ov3rIwAAvp8IAKDrvJ869zXa6ASC+MwJ1mbd\\n1Br7nv8T61SR90nrH+PrgUo1W570aQcT4fO/5yRmVThWF90APu5Y7ycfX4gfFIcO\\n1iK+fSisJ8uY7BDIkmaTb/T42GXTS9bkbZXz17Sv5OrbfRDUsiHLUX5app4utuIx\\n7p5sPTTqZ1p4f8gi9fgsuXtwnTCI8d/brH+Q1iqSI0QOxV9lpfC9Ffj6gBWuCTsI\\nske4ylfVjnoQdlx6k11AvQif1DhoyabVodXx/mezlW+5kS9YVFcKgihe+ymwyifS\\nwT8ppgwcdgii8wn1URcJiky37RNVNYeMLZqCiz/4qs1DfQwNG3vSto6eTmk74jo=\\n=t7N6\\n-----END PGP SIGNATURE-----\\n',\n",
       "  'payload': 'tree 20b07f12dcd6b74d8fcd3dc2647cf93cbb5544aa\\nparent f61a35d1016bfc11bb53e8d844db395fc6c4933d\\nauthor Fernando Costa <54676992+breogann@users.noreply.github.com> 1658419365 +0200\\ncommitter GitHub <noreply@github.com> 1658419365 +0200\\n\\nola'}}"
      ]
     },
     "execution_count": 29,
     "metadata": {},
     "output_type": "execute_result"
    }
   ],
   "source": [
    "dict_count[0]['commit']"
   ]
  },
  {
   "cell_type": "code",
   "execution_count": null,
   "id": "1f2160e6",
   "metadata": {},
   "outputs": [],
   "source": []
  },
  {
   "cell_type": "code",
   "execution_count": 35,
   "id": "9be456b8",
   "metadata": {},
   "outputs": [
    {
     "name": "stdout",
     "output_type": "stream",
     "text": [
      "There was 1 commit in the past week\n"
     ]
    }
   ],
   "source": [
    "count = 0\n",
    "\n",
    "for commits in dict_count:\n",
    "    for element in list(commits.keys()):\n",
    "        if element == 'commit':\n",
    "            count += 1\n",
    "print(f'There was {count} commit in the past week')"
   ]
  },
  {
   "cell_type": "code",
   "execution_count": null,
   "id": "234c887a",
   "metadata": {},
   "outputs": [],
   "source": []
  }
 ],
 "metadata": {
  "kernelspec": {
   "display_name": "Python 3 (ipykernel)",
   "language": "python",
   "name": "python3"
  },
  "language_info": {
   "codemirror_mode": {
    "name": "ipython",
    "version": 3
   },
   "file_extension": ".py",
   "mimetype": "text/x-python",
   "name": "python",
   "nbconvert_exporter": "python",
   "pygments_lexer": "ipython3",
   "version": "3.9.12"
  },
  "toc": {
   "base_numbering": 1,
   "nav_menu": {},
   "number_sections": true,
   "sideBar": true,
   "skip_h1_title": true,
   "title_cell": "Table of Contents",
   "title_sidebar": "Contents",
   "toc_cell": false,
   "toc_position": {
    "height": "calc(100% - 180px)",
    "left": "10px",
    "top": "150px",
    "width": "288px"
   },
   "toc_section_display": true,
   "toc_window_display": true
  }
 },
 "nbformat": 4,
 "nbformat_minor": 5
}
