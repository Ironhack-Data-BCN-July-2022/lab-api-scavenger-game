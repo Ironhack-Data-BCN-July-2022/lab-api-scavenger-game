{
 "cells": [
  {
   "cell_type": "code",
   "execution_count": 21,
   "metadata": {},
   "outputs": [],
   "source": [
    "import json\n",
    "import requests"
   ]
  },
  {
   "cell_type": "markdown",
   "metadata": {},
   "source": [
    "Only if you're using your environmental variable eith the `.env` file, import/install the following modules. Otherwise it is not necessary:\n",
    "\n",
    "https://pypi.org/project/python-dotenv/"
   ]
  },
  {
   "cell_type": "code",
   "execution_count": 19,
   "metadata": {},
   "outputs": [],
   "source": [
    "import os\n",
    "from dotenv import load_dotenv"
   ]
  },
  {
   "cell_type": "code",
   "execution_count": 3,
   "metadata": {},
   "outputs": [],
   "source": [
    "#pip install python-dotenv"
   ]
  },
  {
   "cell_type": "code",
   "execution_count": 4,
   "metadata": {},
   "outputs": [
    {
     "data": {
      "text/plain": [
       "True"
      ]
     },
     "execution_count": 4,
     "metadata": {},
     "output_type": "execute_result"
    }
   ],
   "source": [
    "load_dotenv()"
   ]
  },
  {
   "cell_type": "code",
   "execution_count": 5,
   "metadata": {},
   "outputs": [],
   "source": [
    "github = os.getenv(\"token\")"
   ]
  },
  {
   "cell_type": "markdown",
   "metadata": {},
   "source": [
    "# Challenge 1: Fork Languages\n",
    "\n",
    "You will find out how many programming languages are used among all the forks created from the main lab repo of your bootcamp. Assuming the main lab repo is ironhack-datalabs/datamad1020-rev, you will:\n",
    "\n",
    "1. Obtain the full list of forks created from the main lab repo via Github API.\n",
    "\n",
    "2. Loop the JSON response to find out the language attribute of each fork. Use an array to store the language attributes of each fork.\n",
    "\n",
    "Hint: Each language should appear only once in your array.\n",
    "\n",
    "3. Print the language array. It should be something like:\n",
    "\n",
    "[\"Python\", \"Jupyter Notebook\", \"HTML\"]\n"
   ]
  },
  {
   "cell_type": "markdown",
   "metadata": {},
   "source": [
    "**HINT:**: Create a list with every **language_url** you find in every fork "
   ]
  },
  {
   "cell_type": "markdown",
   "metadata": {},
   "source": [
    "⚠️ **Remember to limit your output before submission**."
   ]
  },
  {
   "cell_type": "code",
   "execution_count": 7,
   "metadata": {},
   "outputs": [],
   "source": [
    "owner = \"ironhack-datalabs\"\n",
    "repo = \"datamad1020-rev\"\n",
    "parameters = {\"Authorization\": f\"token {github}\"}\n",
    "url = f\"https://api.github.com/repos/ironhack-datalabs/datamad1020-rev/forks\"\n",
    "res = requests.get(url, parameters)"
   ]
  },
  {
   "cell_type": "code",
   "execution_count": 8,
   "metadata": {},
   "outputs": [
    {
     "data": {
      "text/plain": [
       "<Response [200]>"
      ]
     },
     "execution_count": 8,
     "metadata": {},
     "output_type": "execute_result"
    }
   ],
   "source": [
    "res"
   ]
  },
  {
   "cell_type": "code",
   "execution_count": 10,
   "metadata": {},
   "outputs": [],
   "source": [
    "bigtext = res.json()"
   ]
  },
  {
   "cell_type": "code",
   "execution_count": 13,
   "metadata": {},
   "outputs": [],
   "source": [
    "list_ = []\n",
    "i = 0\n",
    "for element in bigtext:\n",
    "    list_.append(bigtext[i][\"owner\"][\"login\"])\n",
    "    i += 1"
   ]
  },
  {
   "cell_type": "code",
   "execution_count": 14,
   "metadata": {},
   "outputs": [
    {
     "data": {
      "text/plain": [
       "['LuisSerranoCerame',\n",
       " 'silviarico',\n",
       " 'BlancaRibas',\n",
       " 'acamposla',\n",
       " 'PaolaKarina',\n",
       " 'VictorRodriguezIronhack',\n",
       " 'sonia-quintanar',\n",
       " 'AnaMA96',\n",
       " 'datamad-instructor',\n",
       " 'rafadedubra',\n",
       " 'Nuria-Pe',\n",
       " 'SergioCaler0',\n",
       " 'LucianaLescano',\n",
       " 'Mario-Sainz',\n",
       " 'juanmarin00',\n",
       " 'JoseManuel-G',\n",
       " 'jesus-perez-366',\n",
       " 'sgonzalainen',\n",
       " 'Pptrv',\n",
       " 'Marxess',\n",
       " 'patri-carrasco',\n",
       " 'BlueJotas',\n",
       " 'jvazquezgalvezlp',\n",
       " 'leticia-sobrino',\n",
       " 'JaimeCalcedo']"
      ]
     },
     "execution_count": 14,
     "metadata": {},
     "output_type": "execute_result"
    }
   ],
   "source": [
    "list_"
   ]
  },
  {
   "cell_type": "code",
   "execution_count": 15,
   "metadata": {},
   "outputs": [
    {
     "data": {
      "text/plain": [
       "<Response [200]>"
      ]
     },
     "execution_count": 15,
     "metadata": {},
     "output_type": "execute_result"
    }
   ],
   "source": [
    "url = f\"https://api.github.com/repos/ironhack-datalabs/datamad1020-rev/languages\"\n",
    "res = requests.get(url, parameters)\n",
    "res"
   ]
  },
  {
   "cell_type": "code",
   "execution_count": 22,
   "metadata": {},
   "outputs": [
    {
     "data": {
      "text/plain": [
       "[{'Jupyter Notebook': 767922, 'HTML': 498316, 'Python': 38591},\n",
       " {'Jupyter Notebook': 767922, 'HTML': 498316, 'Python': 38591},\n",
       " {'Jupyter Notebook': 767922, 'HTML': 498316, 'Python': 38591},\n",
       " {'Jupyter Notebook': 767922, 'HTML': 498316, 'Python': 38591},\n",
       " {'Jupyter Notebook': 767922, 'HTML': 498316, 'Python': 38591},\n",
       " {'Jupyter Notebook': 767922, 'HTML': 498316, 'Python': 38571},\n",
       " {'Jupyter Notebook': 767922, 'HTML': 498316, 'Python': 38571},\n",
       " {'Jupyter Notebook': 767922, 'HTML': 498316, 'Python': 38571},\n",
       " {'Jupyter Notebook': 1347658, 'HTML': 498316, 'Python': 38571},\n",
       " {'Jupyter Notebook': 767922, 'HTML': 498316, 'Python': 38571},\n",
       " {'Jupyter Notebook': 767922, 'HTML': 498316, 'Python': 38571},\n",
       " {'Jupyter Notebook': 767922, 'HTML': 498316, 'Python': 38571},\n",
       " {'Jupyter Notebook': 767922, 'HTML': 498316, 'Python': 38571},\n",
       " {'Jupyter Notebook': 767922, 'HTML': 498316, 'Python': 38571},\n",
       " {'Jupyter Notebook': 767922, 'HTML': 498316, 'Python': 38571},\n",
       " {'Jupyter Notebook': 767922, 'HTML': 498316, 'Python': 38571},\n",
       " {'Jupyter Notebook': 767922, 'HTML': 498316, 'Python': 38571},\n",
       " {'Jupyter Notebook': 767922, 'HTML': 498316, 'Python': 38571},\n",
       " {'Jupyter Notebook': 767922, 'HTML': 498316, 'Python': 38571},\n",
       " {'Jupyter Notebook': 767922, 'HTML': 498316, 'Python': 38571},\n",
       " {'Jupyter Notebook': 767922, 'HTML': 498316, 'Python': 38571},\n",
       " {'Jupyter Notebook': 767922, 'HTML': 498316, 'Python': 38571},\n",
       " {'Jupyter Notebook': 767922, 'HTML': 498316, 'Python': 38571},\n",
       " {'Jupyter Notebook': 767922, 'HTML': 498316, 'Python': 38571},\n",
       " {'Jupyter Notebook': 767922, 'HTML': 498316, 'Python': 38571}]"
      ]
     },
     "execution_count": 22,
     "metadata": {},
     "output_type": "execute_result"
    }
   ],
   "source": [
    "list2 = []\n",
    "\n",
    "for element in list_:\n",
    "    url = f\"https://api.github.com/repos/{element}/datamad1020-rev/languages\"\n",
    "    res = requests.get(url, parameters)\n",
    "    text = res.json()\n",
    "    list2.append(text)\n",
    "list2"
   ]
  },
  {
   "cell_type": "code",
   "execution_count": null,
   "metadata": {},
   "outputs": [],
   "source": []
  }
 ],
 "metadata": {
  "kernelspec": {
   "display_name": "Python 3 (ipykernel)",
   "language": "python",
   "name": "python3"
  },
  "language_info": {
   "codemirror_mode": {
    "name": "ipython",
    "version": 3
   },
   "file_extension": ".py",
   "mimetype": "text/x-python",
   "name": "python",
   "nbconvert_exporter": "python",
   "pygments_lexer": "ipython3",
   "version": "3.9.12"
  },
  "toc": {
   "base_numbering": 1,
   "nav_menu": {},
   "number_sections": true,
   "sideBar": true,
   "skip_h1_title": true,
   "title_cell": "Table of Contents",
   "title_sidebar": "Contents",
   "toc_cell": false,
   "toc_position": {},
   "toc_section_display": true,
   "toc_window_display": false
  }
 },
 "nbformat": 4,
 "nbformat_minor": 2
}
