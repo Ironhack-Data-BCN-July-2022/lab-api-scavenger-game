{
 "cells": [
  {
   "cell_type": "code",
   "execution_count": 67,
   "metadata": {},
   "outputs": [],
   "source": [
    "import json\n",
    "import requests\n",
    "import pandas as pd"
   ]
  },
  {
   "cell_type": "markdown",
   "metadata": {},
   "source": [
    "Only if you're using your environmental variable eith the `.env` file, import/install the following modules. Otherwise it is not necessary:\n",
    "\n",
    "https://pypi.org/project/python-dotenv/"
   ]
  },
  {
   "cell_type": "code",
   "execution_count": 68,
   "metadata": {},
   "outputs": [],
   "source": [
    "import os\n",
    "from dotenv import load_dotenv"
   ]
  },
  {
   "cell_type": "code",
   "execution_count": 69,
   "metadata": {},
   "outputs": [],
   "source": [
    "#pip install python-dotenv"
   ]
  },
  {
   "cell_type": "code",
   "execution_count": 70,
   "metadata": {},
   "outputs": [
    {
     "data": {
      "text/plain": [
       "True"
      ]
     },
     "execution_count": 70,
     "metadata": {},
     "output_type": "execute_result"
    }
   ],
   "source": [
    "load_dotenv()"
   ]
  },
  {
   "cell_type": "code",
   "execution_count": 71,
   "metadata": {},
   "outputs": [],
   "source": [
    "github = os.getenv(\"token\")"
   ]
  },
  {
   "cell_type": "markdown",
   "metadata": {},
   "source": [
    "# Challenge 1: Fork Languages\n",
    "\n",
    "You will find out how many programming languages are used among all the forks created from the main lab repo of your bootcamp. Assuming the main lab repo is ironhack-datalabs/datamad1020-rev, you will:\n",
    "\n",
    "1. Obtain the full list of forks created from the main lab repo via Github API.\n",
    "\n",
    "2. Loop the JSON response to find out the language attribute of each fork. Use an array to store the language attributes of each fork.\n",
    "\n",
    "Hint: Each language should appear only once in your array.\n",
    "\n",
    "3. Print the language array. It should be something like:\n",
    "\n",
    "[\"Python\", \"Jupyter Notebook\", \"HTML\"]\n"
   ]
  },
  {
   "cell_type": "markdown",
   "metadata": {},
   "source": [
    "**HINT:**: Create a list with every **language_url** you find in every fork "
   ]
  },
  {
   "cell_type": "markdown",
   "metadata": {},
   "source": [
    "⚠️ **Remember to limit your output before submission**."
   ]
  },
  {
   "cell_type": "code",
   "execution_count": 72,
   "metadata": {},
   "outputs": [],
   "source": [
    "token = os.getenv(\"token\")"
   ]
  },
  {
   "cell_type": "code",
   "execution_count": 73,
   "metadata": {},
   "outputs": [],
   "source": [
    "user = \"ironhack-datalabs\"\n",
    "repo = \"datamad1020-rev\""
   ]
  },
  {
   "cell_type": "code",
   "execution_count": 74,
   "metadata": {},
   "outputs": [],
   "source": [
    "url = f\"https://api.github.com/repos/{user}/{repo}/forks\""
   ]
  },
  {
   "cell_type": "code",
   "execution_count": 75,
   "metadata": {},
   "outputs": [],
   "source": [
    "parameters = {\"Authorization\": f\"token {token}\"}"
   ]
  },
  {
   "cell_type": "code",
   "execution_count": 76,
   "metadata": {},
   "outputs": [],
   "source": [
    "res = requests.get(url, params = parameters)"
   ]
  },
  {
   "cell_type": "code",
   "execution_count": 77,
   "metadata": {},
   "outputs": [
    {
     "data": {
      "text/plain": [
       "<Response [200]>"
      ]
     },
     "execution_count": 77,
     "metadata": {},
     "output_type": "execute_result"
    }
   ],
   "source": [
    "res"
   ]
  },
  {
   "cell_type": "code",
   "execution_count": 78,
   "metadata": {},
   "outputs": [],
   "source": [
    "dict_fork = res.json()"
   ]
  },
  {
   "cell_type": "code",
   "execution_count": 81,
   "metadata": {
    "scrolled": true
   },
   "outputs": [
    {
     "data": {
      "text/plain": [
       "['LuisSerranoCerame',\n",
       " 'silviarico',\n",
       " 'BlancaRibas',\n",
       " 'acamposla',\n",
       " 'PaolaKarina',\n",
       " 'VictorRodriguezIronhack',\n",
       " 'sonia-quintanar',\n",
       " 'AnaMA96',\n",
       " 'datamad-instructor',\n",
       " 'rafadedubra',\n",
       " 'Nuria-Pe',\n",
       " 'SergioCaler0',\n",
       " 'LucianaLescano',\n",
       " 'Mario-Sainz',\n",
       " 'juanmarin00',\n",
       " 'JoseManuel-G',\n",
       " 'jesus-perez-366',\n",
       " 'sgonzalainen',\n",
       " 'Pptrv',\n",
       " 'Marxess',\n",
       " 'patri-carrasco',\n",
       " 'BlueJotas',\n",
       " 'jvazquezgalvezlp',\n",
       " 'leticia-sobrino',\n",
       " 'JaimeCalcedo']"
      ]
     },
     "execution_count": 81,
     "metadata": {},
     "output_type": "execute_result"
    }
   ],
   "source": [
    "name_list = [name['owner']['login'] for name in dict_fork]\n",
    "name_list"
   ]
  },
  {
   "cell_type": "code",
   "execution_count": null,
   "metadata": {},
   "outputs": [],
   "source": [
    "name_list"
   ]
  },
  {
   "cell_type": "code",
   "execution_count": 91,
   "metadata": {},
   "outputs": [
    {
     "name": "stdout",
     "output_type": "stream",
     "text": [
      "[{'Jupyter Notebook': 767922, 'HTML': 498316, 'Python': 38591}, {'Jupyter Notebook': 767922, 'HTML': 498316, 'Python': 38591}, {'Jupyter Notebook': 767922, 'HTML': 498316, 'Python': 38591}, {'Jupyter Notebook': 767922, 'HTML': 498316, 'Python': 38591}, {'Jupyter Notebook': 767922, 'HTML': 498316, 'Python': 38591}, {'Jupyter Notebook': 767922, 'HTML': 498316, 'Python': 38571}, {'Jupyter Notebook': 767922, 'HTML': 498316, 'Python': 38571}, {'Jupyter Notebook': 767922, 'HTML': 498316, 'Python': 38571}, {'Jupyter Notebook': 1347658, 'HTML': 498316, 'Python': 38571}, {'Jupyter Notebook': 767922, 'HTML': 498316, 'Python': 38571}, {'Jupyter Notebook': 767922, 'HTML': 498316, 'Python': 38571}, {'Jupyter Notebook': 767922, 'HTML': 498316, 'Python': 38571}, {'Jupyter Notebook': 767922, 'HTML': 498316, 'Python': 38571}, {'Jupyter Notebook': 767922, 'HTML': 498316, 'Python': 38571}, {'Jupyter Notebook': 767922, 'HTML': 498316, 'Python': 38571}, {'Jupyter Notebook': 767922, 'HTML': 498316, 'Python': 38571}, {'Jupyter Notebook': 767922, 'HTML': 498316, 'Python': 38571}, {'Jupyter Notebook': 767922, 'HTML': 498316, 'Python': 38571}, {'Jupyter Notebook': 767922, 'HTML': 498316, 'Python': 38571}, {'Jupyter Notebook': 767922, 'HTML': 498316, 'Python': 38571}, {'Jupyter Notebook': 767922, 'HTML': 498316, 'Python': 38571}, {'Jupyter Notebook': 767922, 'HTML': 498316, 'Python': 38571}, {'Jupyter Notebook': 767922, 'HTML': 498316, 'Python': 38571}, {'Jupyter Notebook': 767922, 'HTML': 498316, 'Python': 38571}, {'Jupyter Notebook': 767922, 'HTML': 498316, 'Python': 38571}]\n"
     ]
    }
   ],
   "source": [
    "languages = []\n",
    "\n",
    "for name in name_list:\n",
    "    new_url = f\"https://api.github.com/repos/{name}/datamad1020-rev/languages\"\n",
    "    info = requests.get(new_url, params = parameters).json()\n",
    "    languages.append(info)\n",
    "print(languages)"
   ]
  },
  {
   "cell_type": "code",
   "execution_count": 92,
   "metadata": {},
   "outputs": [
    {
     "data": {
      "text/plain": [
       "{'HTML', 'Jupyter Notebook', 'Python'}"
      ]
     },
     "execution_count": 92,
     "metadata": {},
     "output_type": "execute_result"
    }
   ],
   "source": [
    "languages_new=[]\n",
    "for language in languages:\n",
    "    for element in list(language.keys()):\n",
    "        languages_new.append(element)\n",
    "set(languages_new)\n"
   ]
  },
  {
   "cell_type": "code",
   "execution_count": null,
   "metadata": {},
   "outputs": [],
   "source": []
  },
  {
   "cell_type": "code",
   "execution_count": null,
   "metadata": {},
   "outputs": [],
   "source": []
  },
  {
   "cell_type": "code",
   "execution_count": null,
   "metadata": {},
   "outputs": [],
   "source": []
  },
  {
   "cell_type": "code",
   "execution_count": null,
   "metadata": {},
   "outputs": [],
   "source": []
  },
  {
   "cell_type": "code",
   "execution_count": null,
   "metadata": {},
   "outputs": [],
   "source": []
  },
  {
   "cell_type": "code",
   "execution_count": null,
   "metadata": {},
   "outputs": [],
   "source": []
  }
 ],
 "metadata": {
  "kernelspec": {
   "display_name": "Python 3 (ipykernel)",
   "language": "python",
   "name": "python3"
  },
  "language_info": {
   "codemirror_mode": {
    "name": "ipython",
    "version": 3
   },
   "file_extension": ".py",
   "mimetype": "text/x-python",
   "name": "python",
   "nbconvert_exporter": "python",
   "pygments_lexer": "ipython3",
   "version": "3.9.12"
  },
  "toc": {
   "base_numbering": 1,
   "nav_menu": {},
   "number_sections": true,
   "sideBar": true,
   "skip_h1_title": true,
   "title_cell": "Table of Contents",
   "title_sidebar": "Contents",
   "toc_cell": false,
   "toc_position": {},
   "toc_section_display": true,
   "toc_window_display": false
  }
 },
 "nbformat": 4,
 "nbformat_minor": 2
}
