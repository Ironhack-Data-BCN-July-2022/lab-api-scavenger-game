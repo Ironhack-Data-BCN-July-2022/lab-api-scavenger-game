{
 "cells": [
  {
   "cell_type": "code",
   "execution_count": 20,
   "metadata": {},
   "outputs": [],
   "source": [
    "import json\n",
    "import requests\n",
    "import pandas as pd"
   ]
  },
  {
   "cell_type": "markdown",
   "metadata": {},
   "source": [
    "Only if you're using your environmental variable eith the `.env` file, import/install the following modules. Otherwise it is not necessary:\n",
    "\n",
    "https://pypi.org/project/python-dotenv/"
   ]
  },
  {
   "cell_type": "code",
   "execution_count": 21,
   "metadata": {},
   "outputs": [],
   "source": [
    "import os\n",
    "from dotenv import load_dotenv"
   ]
  },
  {
   "cell_type": "code",
   "execution_count": 22,
   "metadata": {},
   "outputs": [
    {
     "data": {
      "text/plain": [
       "True"
      ]
     },
     "execution_count": 22,
     "metadata": {},
     "output_type": "execute_result"
    }
   ],
   "source": [
    "load_dotenv()"
   ]
  },
  {
   "cell_type": "code",
   "execution_count": 23,
   "metadata": {},
   "outputs": [],
   "source": [
    "repo =  'ironhack-datalabs/datamad1020-rev'"
   ]
  },
  {
   "cell_type": "code",
   "execution_count": 24,
   "metadata": {},
   "outputs": [],
   "source": [
    "github = os.getenv(\"token\")"
   ]
  },
  {
   "cell_type": "code",
   "execution_count": 25,
   "metadata": {},
   "outputs": [],
   "source": [
    "url = f\"https://api.github.com/repos/{repo}/forks\"\n",
    "parameters = {\"Authentication \":f'token={github}'}\n"
   ]
  },
  {
   "cell_type": "code",
   "execution_count": 26,
   "metadata": {
    "scrolled": true
   },
   "outputs": [
    {
     "data": {
      "text/plain": [
       "<Response [200]>"
      ]
     },
     "execution_count": 26,
     "metadata": {},
     "output_type": "execute_result"
    }
   ],
   "source": [
    "res = requests.get(url, params = parameters)\n",
    "res"
   ]
  },
  {
   "cell_type": "markdown",
   "metadata": {},
   "source": [
    "# Challenge 1: Fork Languages\n",
    "\n",
    "You will find out how many programming languages are used among all the forks created from the main lab repo of your bootcamp. Assuming the main lab repo is ironhack-datalabs/datamad1020-rev, you will:\n",
    "\n",
    "1. Obtain the full list of forks created from the main lab repo via Github API.\n",
    "\n",
    "2. Loop the JSON response to find out the language attribute of each fork. Use an array to store the language attributes of each fork.\n",
    "\n",
    "Hint: Each language should appear only once in your array.\n",
    "\n",
    "3. Print the language array. It should be something like:\n",
    "\n",
    "[\"Python\", \"Jupyter Notebook\", \"HTML\"]\n"
   ]
  },
  {
   "cell_type": "code",
   "execution_count": 27,
   "metadata": {},
   "outputs": [],
   "source": [
    "list_of_forks = pd.DataFrame(res.json())"
   ]
  },
  {
   "cell_type": "markdown",
   "metadata": {},
   "source": [
    "**HINT:**: Create a list with every **language_url** you find in every fork "
   ]
  },
  {
   "cell_type": "markdown",
   "metadata": {},
   "source": [
    "⚠️ **Remember to limit your output before submission**."
   ]
  },
  {
   "cell_type": "code",
   "execution_count": null,
   "metadata": {},
   "outputs": [],
   "source": [
    "list_of_forks"
   ]
  },
  {
   "cell_type": "code",
   "execution_count": null,
   "metadata": {},
   "outputs": [],
   "source": [
    "res.json()[0]['full_name']"
   ]
  },
  {
   "cell_type": "code",
   "execution_count": null,
   "metadata": {},
   "outputs": [],
   "source": [
    "for i in res.json"
   ]
  },
  {
   "cell_type": "code",
   "execution_count": null,
   "metadata": {
    "scrolled": true
   },
   "outputs": [],
   "source": [
    "res.json()[6]"
   ]
  },
  {
   "cell_type": "code",
   "execution_count": 28,
   "metadata": {},
   "outputs": [],
   "source": [
    "list_of_languages = []\n",
    "\n",
    "\n",
    "languages = [element['full_name'] for element in res.json()]"
   ]
  },
  {
   "cell_type": "code",
   "execution_count": 29,
   "metadata": {},
   "outputs": [
    {
     "data": {
      "text/plain": [
       "['LuisSerranoCerame/datamad1020-rev',\n",
       " 'silviarico/datamad1020-rev',\n",
       " 'BlancaRibas/datamad1020-rev',\n",
       " 'acamposla/datamad1020-rev',\n",
       " 'PaolaKarina/datamad1020-rev',\n",
       " 'VictorRodriguezIronhack/datamad1020-rev',\n",
       " 'sonia-quintanar/datamad1020-rev',\n",
       " 'AnaMA96/datamad1020-rev',\n",
       " 'datamad-instructor/datamad1020-rev',\n",
       " 'rafadedubra/datamad1020-rev',\n",
       " 'Nuria-Pe/datamad1020-rev',\n",
       " 'SergioCaler0/datamad1020-rev',\n",
       " 'LucianaLescano/datamad1020-rev',\n",
       " 'Mario-Sainz/datamad1020-rev',\n",
       " 'juanmarin00/datamad1020-rev',\n",
       " 'JoseManuel-G/datamad1020-rev',\n",
       " 'jesus-perez-366/datamad1020-rev',\n",
       " 'sgonzalainen/datamad1020-rev',\n",
       " 'Pptrv/datamad1020-rev',\n",
       " 'Marxess/datamad1020-rev',\n",
       " 'patri-carrasco/datamad1020-rev',\n",
       " 'BlueJotas/datamad1020-rev',\n",
       " 'jvazquezgalvezlp/datamad1020-rev',\n",
       " 'leticia-sobrino/datamad1020-rev',\n",
       " 'JaimeCalcedo/datamad1020-rev']"
      ]
     },
     "execution_count": 29,
     "metadata": {},
     "output_type": "execute_result"
    }
   ],
   "source": [
    "languages"
   ]
  },
  {
   "cell_type": "code",
   "execution_count": 30,
   "metadata": {},
   "outputs": [
    {
     "name": "stdout",
     "output_type": "stream",
     "text": [
      "[{'Jupyter Notebook': 767922, 'HTML': 498316, 'Python': 38591}, {'Jupyter Notebook': 767922, 'HTML': 498316, 'Python': 38591}, {'Jupyter Notebook': 767922, 'HTML': 498316, 'Python': 38591}, {'Jupyter Notebook': 767922, 'HTML': 498316, 'Python': 38591}, {'Jupyter Notebook': 767922, 'HTML': 498316, 'Python': 38591}, {'Jupyter Notebook': 767922, 'HTML': 498316, 'Python': 38571}, {'Jupyter Notebook': 767922, 'HTML': 498316, 'Python': 38571}, {'Jupyter Notebook': 767922, 'HTML': 498316, 'Python': 38571}, {'Jupyter Notebook': 1347658, 'HTML': 498316, 'Python': 38571}, {'Jupyter Notebook': 767922, 'HTML': 498316, 'Python': 38571}, {'Jupyter Notebook': 767922, 'HTML': 498316, 'Python': 38571}, {'Jupyter Notebook': 767922, 'HTML': 498316, 'Python': 38571}, {'Jupyter Notebook': 767922, 'HTML': 498316, 'Python': 38571}, {'Jupyter Notebook': 767922, 'HTML': 498316, 'Python': 38571}, {'Jupyter Notebook': 767922, 'HTML': 498316, 'Python': 38571}, {'Jupyter Notebook': 767922, 'HTML': 498316, 'Python': 38571}, {'Jupyter Notebook': 767922, 'HTML': 498316, 'Python': 38571}, {'Jupyter Notebook': 767922, 'HTML': 498316, 'Python': 38571}, {'Jupyter Notebook': 767922, 'HTML': 498316, 'Python': 38571}, {'Jupyter Notebook': 767922, 'HTML': 498316, 'Python': 38571}, {'Jupyter Notebook': 767922, 'HTML': 498316, 'Python': 38571}, {'Jupyter Notebook': 767922, 'HTML': 498316, 'Python': 38571}, {'Jupyter Notebook': 767922, 'HTML': 498316, 'Python': 38571}, {'Jupyter Notebook': 767922, 'HTML': 498316, 'Python': 38571}, {'Jupyter Notebook': 767922, 'HTML': 498316, 'Python': 38571}]\n"
     ]
    }
   ],
   "source": [
    "list_of_languages=[]\n",
    "for i in languages:\n",
    "    info = f\"https://api.github.com/repos/{i}/languages\"\n",
    "    request = requests.get(info, params = parameters).json()\n",
    "    list_of_languages.append(request)\n",
    "print(list_of_languages)"
   ]
  },
  {
   "cell_type": "code",
   "execution_count": 31,
   "metadata": {},
   "outputs": [
    {
     "data": {
      "text/plain": [
       "[{'Jupyter Notebook': 767922, 'HTML': 498316, 'Python': 38591},\n",
       " {'Jupyter Notebook': 767922, 'HTML': 498316, 'Python': 38591},\n",
       " {'Jupyter Notebook': 767922, 'HTML': 498316, 'Python': 38591},\n",
       " {'Jupyter Notebook': 767922, 'HTML': 498316, 'Python': 38591},\n",
       " {'Jupyter Notebook': 767922, 'HTML': 498316, 'Python': 38591},\n",
       " {'Jupyter Notebook': 767922, 'HTML': 498316, 'Python': 38571},\n",
       " {'Jupyter Notebook': 767922, 'HTML': 498316, 'Python': 38571},\n",
       " {'Jupyter Notebook': 767922, 'HTML': 498316, 'Python': 38571},\n",
       " {'Jupyter Notebook': 1347658, 'HTML': 498316, 'Python': 38571},\n",
       " {'Jupyter Notebook': 767922, 'HTML': 498316, 'Python': 38571},\n",
       " {'Jupyter Notebook': 767922, 'HTML': 498316, 'Python': 38571},\n",
       " {'Jupyter Notebook': 767922, 'HTML': 498316, 'Python': 38571},\n",
       " {'Jupyter Notebook': 767922, 'HTML': 498316, 'Python': 38571},\n",
       " {'Jupyter Notebook': 767922, 'HTML': 498316, 'Python': 38571},\n",
       " {'Jupyter Notebook': 767922, 'HTML': 498316, 'Python': 38571},\n",
       " {'Jupyter Notebook': 767922, 'HTML': 498316, 'Python': 38571},\n",
       " {'Jupyter Notebook': 767922, 'HTML': 498316, 'Python': 38571},\n",
       " {'Jupyter Notebook': 767922, 'HTML': 498316, 'Python': 38571},\n",
       " {'Jupyter Notebook': 767922, 'HTML': 498316, 'Python': 38571},\n",
       " {'Jupyter Notebook': 767922, 'HTML': 498316, 'Python': 38571},\n",
       " {'Jupyter Notebook': 767922, 'HTML': 498316, 'Python': 38571},\n",
       " {'Jupyter Notebook': 767922, 'HTML': 498316, 'Python': 38571},\n",
       " {'Jupyter Notebook': 767922, 'HTML': 498316, 'Python': 38571},\n",
       " {'Jupyter Notebook': 767922, 'HTML': 498316, 'Python': 38571},\n",
       " {'Jupyter Notebook': 767922, 'HTML': 498316, 'Python': 38571}]"
      ]
     },
     "execution_count": 31,
     "metadata": {},
     "output_type": "execute_result"
    }
   ],
   "source": [
    "list_of_languages"
   ]
  },
  {
   "cell_type": "code",
   "execution_count": null,
   "metadata": {},
   "outputs": [],
   "source": []
  }
 ],
 "metadata": {
  "kernelspec": {
   "display_name": "Python 3 (ipykernel)",
   "language": "python",
   "name": "python3"
  },
  "language_info": {
   "codemirror_mode": {
    "name": "ipython",
    "version": 3
   },
   "file_extension": ".py",
   "mimetype": "text/x-python",
   "name": "python",
   "nbconvert_exporter": "python",
   "pygments_lexer": "ipython3",
   "version": "3.8.13"
  },
  "toc": {
   "base_numbering": 1,
   "nav_menu": {},
   "number_sections": true,
   "sideBar": true,
   "skip_h1_title": true,
   "title_cell": "Table of Contents",
   "title_sidebar": "Contents",
   "toc_cell": false,
   "toc_position": {},
   "toc_section_display": true,
   "toc_window_display": false
  }
 },
 "nbformat": 4,
 "nbformat_minor": 2
}
